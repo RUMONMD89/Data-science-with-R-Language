{
  "nbformat": 4,
  "nbformat_minor": 0,
  "metadata": {
    "colab": {
      "provenance": [],
      "include_colab_link": true
    },
    "kernelspec": {
      "name": "ir",
      "display_name": "R"
    },
    "language_info": {
      "name": "R"
    }
  },
  "cells": [
    {
      "cell_type": "markdown",
      "metadata": {
        "id": "view-in-github",
        "colab_type": "text"
      },
      "source": [
        "<a href=\"https://colab.research.google.com/github/RUMONMD89/Data-science-with-R-Language/blob/main/ADS5_R.ipynb\" target=\"_parent\"><img src=\"https://colab.research.google.com/assets/colab-badge.svg\" alt=\"Open In Colab\"/></a>"
      ]
    },
    {
      "cell_type": "code",
      "source": [
        "##Chapter 5\n",
        "bank <- read.csv(\"bank-additional.csv\")\n",
        "\n",
        "set.seed(7)\n",
        "\n",
        "n <- dim(bank)[1]\n",
        "train_ind  <- runif(n) < 0.75\n",
        "bank_train <- bank[train_ind, ]\n",
        "bank_test  <- bank[!train_ind, ]\n",
        "\n",
        "dim(bank)"
      ],
      "metadata": {
        "id": "Yg_SSBZx6HGn",
        "outputId": "593c2190-2a5c-448f-b3f4-2e1b2385ea33",
        "colab": {
          "base_uri": "https://localhost:8080/",
          "height": 34
        }
      },
      "execution_count": null,
      "outputs": [
        {
          "output_type": "display_data",
          "data": {
            "text/html": [
              "<style>\n",
              ".list-inline {list-style: none; margin:0; padding: 0}\n",
              ".list-inline>li {display: inline-block}\n",
              ".list-inline>li:not(:last-child)::after {content: \"\\00b7\"; padding: 0 .5ex}\n",
              "</style>\n",
              "<ol class=list-inline><li>4119</li><li>21</li></ol>\n"
            ],
            "text/markdown": "1. 4119\n2. 21\n\n\n",
            "text/latex": "\\begin{enumerate*}\n\\item 4119\n\\item 21\n\\end{enumerate*}\n",
            "text/plain": [
              "[1] 4119   21"
            ]
          },
          "metadata": {}
        }
      ]
    },
    {
      "cell_type": "code",
      "source": [
        "names(bank_train)"
      ],
      "metadata": {
        "id": "rMFXOmM5912F",
        "outputId": "e5d304c8-b377-4ef1-e28b-07d0841c9d96",
        "colab": {
          "base_uri": "https://localhost:8080/",
          "height": 52
        }
      },
      "execution_count": null,
      "outputs": [
        {
          "output_type": "display_data",
          "data": {
            "text/html": [
              "<style>\n",
              ".list-inline {list-style: none; margin:0; padding: 0}\n",
              ".list-inline>li {display: inline-block}\n",
              ".list-inline>li:not(:last-child)::after {content: \"\\00b7\"; padding: 0 .5ex}\n",
              "</style>\n",
              "<ol class=list-inline><li>'age'</li><li>'job'</li><li>'marital'</li><li>'education'</li><li>'default'</li><li>'housing'</li><li>'loan'</li><li>'contact'</li><li>'month'</li><li>'day_of_week'</li><li>'duration'</li><li>'campaign'</li><li>'pdays'</li><li>'previous'</li><li>'poutcome'</li><li>'emp.var.rate'</li><li>'cons.price.idx'</li><li>'cons.conf.idx'</li><li>'euribor3m'</li><li>'nr.employed'</li><li>'response'</li></ol>\n"
            ],
            "text/markdown": "1. 'age'\n2. 'job'\n3. 'marital'\n4. 'education'\n5. 'default'\n6. 'housing'\n7. 'loan'\n8. 'contact'\n9. 'month'\n10. 'day_of_week'\n11. 'duration'\n12. 'campaign'\n13. 'pdays'\n14. 'previous'\n15. 'poutcome'\n16. 'emp.var.rate'\n17. 'cons.price.idx'\n18. 'cons.conf.idx'\n19. 'euribor3m'\n20. 'nr.employed'\n21. 'response'\n\n\n",
            "text/latex": "\\begin{enumerate*}\n\\item 'age'\n\\item 'job'\n\\item 'marital'\n\\item 'education'\n\\item 'default'\n\\item 'housing'\n\\item 'loan'\n\\item 'contact'\n\\item 'month'\n\\item 'day\\_of\\_week'\n\\item 'duration'\n\\item 'campaign'\n\\item 'pdays'\n\\item 'previous'\n\\item 'poutcome'\n\\item 'emp.var.rate'\n\\item 'cons.price.idx'\n\\item 'cons.conf.idx'\n\\item 'euribor3m'\n\\item 'nr.employed'\n\\item 'response'\n\\end{enumerate*}\n",
            "text/plain": [
              " [1] \"age\"            \"job\"            \"marital\"        \"education\"     \n",
              " [5] \"default\"        \"housing\"        \"loan\"           \"contact\"       \n",
              " [9] \"month\"          \"day_of_week\"    \"duration\"       \"campaign\"      \n",
              "[13] \"pdays\"          \"previous\"       \"poutcome\"       \"emp.var.rate\"  \n",
              "[17] \"cons.price.idx\" \"cons.conf.idx\"  \"euribor3m\"      \"nr.employed\"   \n",
              "[21] \"response\"      "
            ]
          },
          "metadata": {}
        }
      ]
    },
    {
      "cell_type": "code",
      "source": [
        "length(bank_train$response)\n",
        "table(bank_train$response)"
      ],
      "metadata": {
        "id": "JCXKSIno9j3z",
        "outputId": "56a7700a-341b-439b-cd34-224e811c6e82",
        "colab": {
          "base_uri": "https://localhost:8080/",
          "height": 89
        }
      },
      "execution_count": null,
      "outputs": [
        {
          "output_type": "display_data",
          "data": {
            "text/html": [
              "3103"
            ],
            "text/markdown": "3103",
            "text/latex": "3103",
            "text/plain": [
              "[1] 3103"
            ]
          },
          "metadata": {}
        },
        {
          "output_type": "display_data",
          "data": {
            "text/plain": [
              "\n",
              "  no  yes \n",
              "2767  336 "
            ]
          },
          "metadata": {}
        }
      ]
    },
    {
      "cell_type": "code",
      "source": [
        "length(bank_test$response)\n",
        "table(bank_test$response)"
      ],
      "metadata": {
        "id": "o1y6dAfr8m7S",
        "outputId": "bb3c593e-856c-4b9d-aa04-48622e7385ec",
        "colab": {
          "base_uri": "https://localhost:8080/",
          "height": 89
        }
      },
      "execution_count": null,
      "outputs": [
        {
          "output_type": "display_data",
          "data": {
            "text/html": [
              "1016"
            ],
            "text/markdown": "1016",
            "text/latex": "1016",
            "text/plain": [
              "[1] 1016"
            ]
          },
          "metadata": {}
        },
        {
          "output_type": "display_data",
          "data": {
            "text/plain": [
              "\n",
              " no yes \n",
              "901 115 "
            ]
          },
          "metadata": {}
        }
      ]
    },
    {
      "cell_type": "code",
      "source": [
        "to.resample  <- which(bank_train$response == \"yes\")\n",
        "our.resample <- sample(x = to.resample, size = 850, replace = TRUE)\n",
        "our.resample <- bank_train[our.resample, ]\n",
        "train_bank_rebal <- rbind(bank_train, our.resample)\n",
        "\n",
        "t.v1 <- table(train_bank_rebal$response)\n",
        "t.v2 <- rbind(t.v1, round(prop.table(t.v1), 4))\n",
        "colnames(t.v2) <- c(\"Response = No\", \"Response = Yes\")\n",
        "rownames(t.v2) <- c(\"Count\", \"Proportion\")\n",
        "t.v2"
      ],
      "metadata": {
        "id": "IwTlVu2I7GGK",
        "outputId": "903b7e42-c503-4dd8-cfbf-8fae25e3f428",
        "colab": {
          "base_uri": "https://localhost:8080/",
          "height": 129
        }
      },
      "execution_count": null,
      "outputs": [
        {
          "output_type": "display_data",
          "data": {
            "text/html": [
              "<table class=\"dataframe\">\n",
              "<caption>A matrix: 2 × 2 of type dbl</caption>\n",
              "<thead>\n",
              "\t<tr><th></th><th scope=col>Response = No</th><th scope=col>Response = Yes</th></tr>\n",
              "</thead>\n",
              "<tbody>\n",
              "\t<tr><th scope=row>Count</th><td>2767.0</td><td>1186.0</td></tr>\n",
              "\t<tr><th scope=row>Proportion</th><td>   0.7</td><td>   0.3</td></tr>\n",
              "</tbody>\n",
              "</table>\n"
            ],
            "text/markdown": "\nA matrix: 2 × 2 of type dbl\n\n| <!--/--> | Response = No | Response = Yes |\n|---|---|---|\n| Count | 2767.0 | 1186.0 |\n| Proportion |    0.7 |    0.3 |\n\n",
            "text/latex": "A matrix: 2 × 2 of type dbl\n\\begin{tabular}{r|ll}\n  & Response = No & Response = Yes\\\\\n\\hline\n\tCount & 2767.0 & 1186.0\\\\\n\tProportion &    0.7 &    0.3\\\\\n\\end{tabular}\n",
            "text/plain": [
              "           Response = No Response = Yes\n",
              "Count      2767.0        1186.0        \n",
              "Proportion    0.7           0.3        "
            ]
          },
          "metadata": {}
        }
      ]
    }
  ]
}