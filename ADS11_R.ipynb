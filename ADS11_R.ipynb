{
  "nbformat": 4,
  "nbformat_minor": 0,
  "metadata": {
    "colab": {
      "provenance": [],
      "include_colab_link": true
    },
    "kernelspec": {
      "name": "ir",
      "display_name": "R"
    },
    "language_info": {
      "name": "R"
    }
  },
  "cells": [
    {
      "cell_type": "markdown",
      "metadata": {
        "id": "view-in-github",
        "colab_type": "text"
      },
      "source": [
        "<a href=\"https://colab.research.google.com/github/RUMONMD89/Data-science-with-R-Language/blob/main/ADS11_R.ipynb\" target=\"_parent\"><img src=\"https://colab.research.google.com/assets/colab-badge.svg\" alt=\"Open In Colab\"/></a>"
      ]
    },
    {
      "cell_type": "code",
      "source": [
        "##Chapter 11\n",
        "sales_train <- read.csv(\"clothing_sales_training.csv\")\n",
        "sales_test <- read.csv(\"clothing_sales_test.csv\")\n",
        "\n",
        "sales_train$CC <- as.factor(sales_train$CC)\n",
        "sales_train$Web <- as.factor(sales_train$Web)\n",
        "sales_test$CC <- as.factor(sales_test$CC)\n",
        "sales_test$Web <- as.factor(sales_test$Web)\n",
        "\n",
        "model01 <- lm(Sales.per.Visit ~ Days + Web + CC, data = sales_train)\n",
        "summary(model01)"
      ],
      "metadata": {
        "id": "09aK47WE-rT9",
        "colab": {
          "base_uri": "https://localhost:8080/",
          "height": 381
        },
        "outputId": "8223fd85-07c8-4f65-fe8b-ca56f4ec2e2c"
      },
      "execution_count": null,
      "outputs": [
        {
          "output_type": "display_data",
          "data": {
            "text/plain": [
              "\n",
              "Call:\n",
              "lm(formula = Sales.per.Visit ~ Days + Web + CC, data = sales_train)\n",
              "\n",
              "Residuals:\n",
              "    Min      1Q  Median      3Q     Max \n",
              "-170.47  -48.35  -20.98   25.10 1194.52 \n",
              "\n",
              "Coefficients:\n",
              "            Estimate Std. Error t value Pr(>|t|)    \n",
              "(Intercept) 73.36537    4.67621  15.689  < 2e-16 ***\n",
              "Days         0.16438    0.01677   9.802  < 2e-16 ***\n",
              "Web1         7.27550   11.65786   0.624    0.533    \n",
              "CC1         21.81750    4.76607   4.578  5.1e-06 ***\n",
              "---\n",
              "Signif. codes:  0 ‘***’ 0.001 ‘**’ 0.01 ‘*’ 0.05 ‘.’ 0.1 ‘ ’ 1\n",
              "\n",
              "Residual standard error: 87.56 on 1447 degrees of freedom\n",
              "Multiple R-squared:  0.06572,\tAdjusted R-squared:  0.06379 \n",
              "F-statistic: 33.93 on 3 and 1447 DF,  p-value: < 2.2e-16\n"
            ]
          },
          "metadata": {}
        }
      ]
    },
    {
      "cell_type": "code",
      "source": [
        "model01_test <- lm(Sales.per.Visit ~ Days +Web + CC, data = sales_test)\n",
        "summary(model01_test)"
      ],
      "metadata": {
        "id": "GIn_4BwPAHjZ",
        "colab": {
          "base_uri": "https://localhost:8080/",
          "height": 381
        },
        "outputId": "ef0d384f-b470-45b3-d91f-e089317adcdd"
      },
      "execution_count": null,
      "outputs": [
        {
          "output_type": "display_data",
          "data": {
            "text/plain": [
              "\n",
              "Call:\n",
              "lm(formula = Sales.per.Visit ~ Days + Web + CC, data = sales_test)\n",
              "\n",
              "Residuals:\n",
              "    Min      1Q  Median      3Q     Max \n",
              "-126.97  -49.04  -17.28   27.25  448.89 \n",
              "\n",
              "Coefficients:\n",
              "            Estimate Std. Error t value Pr(>|t|)    \n",
              "(Intercept) 80.28768    4.00016  20.071  < 2e-16 ***\n",
              "Days         0.12610    0.01383   9.120  < 2e-16 ***\n",
              "Web1        12.48109    9.05412   1.378    0.168    \n",
              "CC1         20.89548    4.16987   5.011 6.11e-07 ***\n",
              "---\n",
              "Signif. codes:  0 ‘***’ 0.001 ‘**’ 0.01 ‘*’ 0.05 ‘.’ 0.1 ‘ ’ 1\n",
              "\n",
              "Residual standard error: 75.17 on 1391 degrees of freedom\n",
              "Multiple R-squared:  0.06334,\tAdjusted R-squared:  0.06132 \n",
              "F-statistic: 31.36 on 3 and 1391 DF,  p-value: < 2.2e-16\n"
            ]
          },
          "metadata": {}
        }
      ]
    },
    {
      "cell_type": "code",
      "source": [
        "model02 <- lm(formula = Sales.per.Visit ~ Days + CC, data = sales_train)\n",
        "summary(model02)"
      ],
      "metadata": {
        "id": "Ldopz0sfAOZs",
        "colab": {
          "base_uri": "https://localhost:8080/",
          "height": 363
        },
        "outputId": "f0ffff32-ec97-4585-99ba-ab9986ebe70d"
      },
      "execution_count": null,
      "outputs": [
        {
          "output_type": "display_data",
          "data": {
            "text/plain": [
              "\n",
              "Call:\n",
              "lm(formula = Sales.per.Visit ~ Days + CC, data = sales_train)\n",
              "\n",
              "Residuals:\n",
              "    Min      1Q  Median      3Q     Max \n",
              "-170.28  -48.25  -21.02   25.86 1194.11 \n",
              "\n",
              "Coefficients:\n",
              "            Estimate Std. Error t value Pr(>|t|)    \n",
              "(Intercept) 73.62090    4.65727  15.808  < 2e-16 ***\n",
              "Days         0.16374    0.01674   9.784  < 2e-16 ***\n",
              "CC1         22.13570    4.73772   4.672 3.26e-06 ***\n",
              "---\n",
              "Signif. codes:  0 ‘***’ 0.001 ‘**’ 0.01 ‘*’ 0.05 ‘.’ 0.1 ‘ ’ 1\n",
              "\n",
              "Residual standard error: 87.54 on 1448 degrees of freedom\n",
              "Multiple R-squared:  0.06547,\tAdjusted R-squared:  0.06418 \n",
              "F-statistic: 50.72 on 2 and 1448 DF,  p-value: < 2.2e-16\n"
            ]
          },
          "metadata": {}
        }
      ]
    },
    {
      "cell_type": "code",
      "source": [
        "model02_test <- lm(formula = Sales.per.Visit ~ Days + CC, data = sales_test)\n",
        "summary(model02_test)"
      ],
      "metadata": {
        "id": "k5m3bTX6AQio",
        "colab": {
          "base_uri": "https://localhost:8080/",
          "height": 363
        },
        "outputId": "4e1f2df3-a55b-47ba-ff19-f3a163f1822d"
      },
      "execution_count": null,
      "outputs": [
        {
          "output_type": "display_data",
          "data": {
            "text/plain": [
              "\n",
              "Call:\n",
              "lm(formula = Sales.per.Visit ~ Days + CC, data = sales_test)\n",
              "\n",
              "Residuals:\n",
              "    Min      1Q  Median      3Q     Max \n",
              "-127.01  -48.76  -17.66   27.17  448.02 \n",
              "\n",
              "Coefficients:\n",
              "            Estimate Std. Error t value Pr(>|t|)    \n",
              "(Intercept) 80.76564    3.98640  20.260  < 2e-16 ***\n",
              "Days         0.12538    0.01382   9.071  < 2e-16 ***\n",
              "CC1         21.52618    4.14603   5.192 2.39e-07 ***\n",
              "---\n",
              "Signif. codes:  0 ‘***’ 0.001 ‘**’ 0.01 ‘*’ 0.05 ‘.’ 0.1 ‘ ’ 1\n",
              "\n",
              "Residual standard error: 75.2 on 1392 degrees of freedom\n",
              "Multiple R-squared:  0.06206,\tAdjusted R-squared:  0.06072 \n",
              "F-statistic: 46.06 on 2 and 1392 DF,  p-value: < 2.2e-16\n"
            ]
          },
          "metadata": {}
        }
      ]
    },
    {
      "cell_type": "code",
      "source": [
        "cust01 <- data.frame(CC = as.factor(0), Days = 333)\n",
        "predict(object = model02, newdata = cust01)\n",
        "summary(model02)"
      ],
      "metadata": {
        "id": "hZTjPKpOAc9b",
        "colab": {
          "base_uri": "https://localhost:8080/",
          "height": 380
        },
        "outputId": "6fa5a57b-c90b-4835-e2e7-0f5b81253bc8"
      },
      "execution_count": null,
      "outputs": [
        {
          "output_type": "display_data",
          "data": {
            "text/html": [
              "<strong>1:</strong> 128.145537835723"
            ],
            "text/markdown": "**1:** 128.145537835723",
            "text/latex": "\\textbf{1:} 128.145537835723",
            "text/plain": [
              "       1 \n",
              "128.1455 "
            ]
          },
          "metadata": {}
        },
        {
          "output_type": "display_data",
          "data": {
            "text/plain": [
              "\n",
              "Call:\n",
              "lm(formula = Sales.per.Visit ~ Days + CC, data = sales_train)\n",
              "\n",
              "Residuals:\n",
              "    Min      1Q  Median      3Q     Max \n",
              "-170.28  -48.25  -21.02   25.86 1194.11 \n",
              "\n",
              "Coefficients:\n",
              "            Estimate Std. Error t value Pr(>|t|)    \n",
              "(Intercept) 73.62090    4.65727  15.808  < 2e-16 ***\n",
              "Days         0.16374    0.01674   9.784  < 2e-16 ***\n",
              "CC1         22.13570    4.73772   4.672 3.26e-06 ***\n",
              "---\n",
              "Signif. codes:  0 ‘***’ 0.001 ‘**’ 0.01 ‘*’ 0.05 ‘.’ 0.1 ‘ ’ 1\n",
              "\n",
              "Residual standard error: 87.54 on 1448 degrees of freedom\n",
              "Multiple R-squared:  0.06547,\tAdjusted R-squared:  0.06418 \n",
              "F-statistic: 50.72 on 2 and 1448 DF,  p-value: < 2.2e-16\n"
            ]
          },
          "metadata": {}
        }
      ]
    },
    {
      "cell_type": "code",
      "source": [
        "X_test <- data.frame(Days = sales_test$Days, CC = sales_test$CC)\n",
        "ypred <- predict(object = model02, newdata = X_test)\n",
        "ytrue <- sales_test$Sales.per.Visit\n",
        "\n",
        "install.packages(\"MLmetrics\")\n",
        "library(MLmetrics)\n",
        "\n",
        "MAE(y_pred = ypred, y_true = ytrue)\n",
        "\n",
        "library(MASS)\n",
        "\n",
        "model01_step <- stepAIC(object = model01)\n",
        "summary(model01_step)"
      ],
      "metadata": {
        "id": "xSJ8YqxlAhpK",
        "colab": {
          "base_uri": "https://localhost:8080/",
          "height": 944
        },
        "outputId": "b2702ad9-eb9c-4e65-b664-ddf942aca0b5"
      },
      "execution_count": null,
      "outputs": [
        {
          "output_type": "stream",
          "name": "stderr",
          "text": [
            "Installing package into ‘/usr/local/lib/R/site-library’\n",
            "(as ‘lib’ is unspecified)\n",
            "\n",
            "also installing the dependencies ‘bitops’, ‘gtools’, ‘caTools’, ‘gplots’, ‘ROCR’\n",
            "\n",
            "\n",
            "\n",
            "Attaching package: ‘MLmetrics’\n",
            "\n",
            "\n",
            "The following object is masked from ‘package:base’:\n",
            "\n",
            "    Recall\n",
            "\n",
            "\n"
          ]
        },
        {
          "output_type": "display_data",
          "data": {
            "text/html": [
              "53.3863955302942"
            ],
            "text/markdown": "53.3863955302942",
            "text/latex": "53.3863955302942",
            "text/plain": [
              "[1] 53.3864"
            ]
          },
          "metadata": {}
        },
        {
          "output_type": "stream",
          "name": "stdout",
          "text": [
            "Start:  AIC=12982.67\n",
            "Sales.per.Visit ~ Days + Web + CC\n",
            "\n",
            "       Df Sum of Sq      RSS   AIC\n",
            "- Web   1      2986 11096733 12981\n",
            "<none>              11093747 12983\n",
            "- CC    1    160657 11254404 13002\n",
            "- Days  1    736574 11830321 13074\n",
            "\n",
            "Step:  AIC=12981.06\n",
            "Sales.per.Visit ~ Days + CC\n",
            "\n",
            "       Df Sum of Sq      RSS   AIC\n",
            "<none>              11096733 12981\n",
            "- CC    1    167291 11264025 13001\n",
            "- Days  1    733593 11830326 13072\n"
          ]
        },
        {
          "output_type": "display_data",
          "data": {
            "text/plain": [
              "\n",
              "Call:\n",
              "lm(formula = Sales.per.Visit ~ Days + CC, data = sales_train)\n",
              "\n",
              "Residuals:\n",
              "    Min      1Q  Median      3Q     Max \n",
              "-170.28  -48.25  -21.02   25.86 1194.11 \n",
              "\n",
              "Coefficients:\n",
              "            Estimate Std. Error t value Pr(>|t|)    \n",
              "(Intercept) 73.62090    4.65727  15.808  < 2e-16 ***\n",
              "Days         0.16374    0.01674   9.784  < 2e-16 ***\n",
              "CC1         22.13570    4.73772   4.672 3.26e-06 ***\n",
              "---\n",
              "Signif. codes:  0 ‘***’ 0.001 ‘**’ 0.01 ‘*’ 0.05 ‘.’ 0.1 ‘ ’ 1\n",
              "\n",
              "Residual standard error: 87.54 on 1448 degrees of freedom\n",
              "Multiple R-squared:  0.06547,\tAdjusted R-squared:  0.06418 \n",
              "F-statistic: 50.72 on 2 and 1448 DF,  p-value: < 2.2e-16\n"
            ]
          },
          "metadata": {}
        }
      ]
    }
  ]
}