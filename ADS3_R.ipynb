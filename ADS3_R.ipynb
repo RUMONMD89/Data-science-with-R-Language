{
  "nbformat": 4,
  "nbformat_minor": 0,
  "metadata": {
    "colab": {
      "provenance": [],
      "include_colab_link": true
    },
    "kernelspec": {
      "name": "ir",
      "display_name": "R"
    },
    "language_info": {
      "name": "R"
    }
  },
  "cells": [
    {
      "cell_type": "markdown",
      "metadata": {
        "id": "view-in-github",
        "colab_type": "text"
      },
      "source": [
        "<a href=\"https://colab.research.google.com/github/RUMONMD89/Data-science-with-R-Language/blob/main/ADS3_R.ipynb\" target=\"_parent\"><img src=\"https://colab.research.google.com/assets/colab-badge.svg\" alt=\"Open In Colab\"/></a>"
      ]
    },
    {
      "cell_type": "code",
      "source": [
        "##Chapter 3\n",
        "#install.packages(\"ggplot2\")\n",
        "install.packages(\"plyr\")\n",
        "library(plyr)\n",
        "library(ggplot2)\n",
        "\n",
        "bank_train <- read.csv(\"bank_marketing_training.csv\")\n",
        "n <- dim(bank_train)[1]\n",
        "bank_train$Index <- c(1:n)\n",
        "head(bank_train)"
      ],
      "metadata": {
        "colab": {
          "base_uri": "https://localhost:8080/",
          "height": 415
        },
        "id": "xXVhALDeZew4",
        "outputId": "3b9a6747-25f9-4875-a612-45300a29eb3c"
      },
      "execution_count": 1,
      "outputs": [
        {
          "output_type": "stream",
          "name": "stderr",
          "text": [
            "Installing package into ‘/usr/local/lib/R/site-library’\n",
            "(as ‘lib’ is unspecified)\n",
            "\n",
            "also installing the dependency ‘Rcpp’\n",
            "\n",
            "\n"
          ]
        },
        {
          "output_type": "display_data",
          "data": {
            "text/html": [
              "<table class=\"dataframe\">\n",
              "<caption>A data.frame: 6 × 22</caption>\n",
              "<thead>\n",
              "\t<tr><th></th><th scope=col>age</th><th scope=col>job</th><th scope=col>marital</th><th scope=col>education</th><th scope=col>default</th><th scope=col>housing</th><th scope=col>loan</th><th scope=col>contact</th><th scope=col>month</th><th scope=col>day_of_week</th><th scope=col>⋯</th><th scope=col>days_since_previous</th><th scope=col>previous</th><th scope=col>previous_outcome</th><th scope=col>emp.var.rate</th><th scope=col>cons.price.idx</th><th scope=col>cons.conf.idx</th><th scope=col>euribor3m</th><th scope=col>nr.employed</th><th scope=col>response</th><th scope=col>Index</th></tr>\n",
              "\t<tr><th></th><th scope=col>&lt;int&gt;</th><th scope=col>&lt;chr&gt;</th><th scope=col>&lt;chr&gt;</th><th scope=col>&lt;chr&gt;</th><th scope=col>&lt;chr&gt;</th><th scope=col>&lt;chr&gt;</th><th scope=col>&lt;chr&gt;</th><th scope=col>&lt;chr&gt;</th><th scope=col>&lt;chr&gt;</th><th scope=col>&lt;chr&gt;</th><th scope=col>⋯</th><th scope=col>&lt;int&gt;</th><th scope=col>&lt;int&gt;</th><th scope=col>&lt;chr&gt;</th><th scope=col>&lt;dbl&gt;</th><th scope=col>&lt;dbl&gt;</th><th scope=col>&lt;dbl&gt;</th><th scope=col>&lt;dbl&gt;</th><th scope=col>&lt;int&gt;</th><th scope=col>&lt;chr&gt;</th><th scope=col>&lt;int&gt;</th></tr>\n",
              "</thead>\n",
              "<tbody>\n",
              "\t<tr><th scope=row>1</th><td>56</td><td>housemaid  </td><td>married </td><td>basic.4y   </td><td>no     </td><td>no </td><td>no </td><td>telephone</td><td>may</td><td>mon</td><td>⋯</td><td>999</td><td>0</td><td>nonexistent</td><td>1.1</td><td>93.994</td><td>-36.4</td><td>4.857</td><td>5191</td><td>no</td><td>1</td></tr>\n",
              "\t<tr><th scope=row>2</th><td>57</td><td>services   </td><td>married </td><td>high.school</td><td>unknown</td><td>no </td><td>no </td><td>telephone</td><td>may</td><td>mon</td><td>⋯</td><td>999</td><td>0</td><td>nonexistent</td><td>1.1</td><td>93.994</td><td>-36.4</td><td>4.857</td><td>5191</td><td>no</td><td>2</td></tr>\n",
              "\t<tr><th scope=row>3</th><td>41</td><td>blue-collar</td><td>married </td><td>unknown    </td><td>unknown</td><td>no </td><td>no </td><td>telephone</td><td>may</td><td>mon</td><td>⋯</td><td>999</td><td>0</td><td>nonexistent</td><td>1.1</td><td>93.994</td><td>-36.4</td><td>4.857</td><td>5191</td><td>no</td><td>3</td></tr>\n",
              "\t<tr><th scope=row>4</th><td>25</td><td>services   </td><td>single  </td><td>high.school</td><td>no     </td><td>yes</td><td>no </td><td>telephone</td><td>may</td><td>mon</td><td>⋯</td><td>999</td><td>0</td><td>nonexistent</td><td>1.1</td><td>93.994</td><td>-36.4</td><td>4.857</td><td>5191</td><td>no</td><td>4</td></tr>\n",
              "\t<tr><th scope=row>5</th><td>29</td><td>blue-collar</td><td>single  </td><td>high.school</td><td>no     </td><td>no </td><td>yes</td><td>telephone</td><td>may</td><td>mon</td><td>⋯</td><td>999</td><td>0</td><td>nonexistent</td><td>1.1</td><td>93.994</td><td>-36.4</td><td>4.857</td><td>5191</td><td>no</td><td>5</td></tr>\n",
              "\t<tr><th scope=row>6</th><td>57</td><td>housemaid  </td><td>divorced</td><td>basic.4y   </td><td>no     </td><td>yes</td><td>no </td><td>telephone</td><td>may</td><td>mon</td><td>⋯</td><td>999</td><td>0</td><td>nonexistent</td><td>1.1</td><td>93.994</td><td>-36.4</td><td>4.857</td><td>5191</td><td>no</td><td>6</td></tr>\n",
              "</tbody>\n",
              "</table>\n"
            ],
            "text/markdown": "\nA data.frame: 6 × 22\n\n| <!--/--> | age &lt;int&gt; | job &lt;chr&gt; | marital &lt;chr&gt; | education &lt;chr&gt; | default &lt;chr&gt; | housing &lt;chr&gt; | loan &lt;chr&gt; | contact &lt;chr&gt; | month &lt;chr&gt; | day_of_week &lt;chr&gt; | ⋯ ⋯ | days_since_previous &lt;int&gt; | previous &lt;int&gt; | previous_outcome &lt;chr&gt; | emp.var.rate &lt;dbl&gt; | cons.price.idx &lt;dbl&gt; | cons.conf.idx &lt;dbl&gt; | euribor3m &lt;dbl&gt; | nr.employed &lt;int&gt; | response &lt;chr&gt; | Index &lt;int&gt; |\n|---|---|---|---|---|---|---|---|---|---|---|---|---|---|---|---|---|---|---|---|---|---|\n| 1 | 56 | housemaid   | married  | basic.4y    | no      | no  | no  | telephone | may | mon | ⋯ | 999 | 0 | nonexistent | 1.1 | 93.994 | -36.4 | 4.857 | 5191 | no | 1 |\n| 2 | 57 | services    | married  | high.school | unknown | no  | no  | telephone | may | mon | ⋯ | 999 | 0 | nonexistent | 1.1 | 93.994 | -36.4 | 4.857 | 5191 | no | 2 |\n| 3 | 41 | blue-collar | married  | unknown     | unknown | no  | no  | telephone | may | mon | ⋯ | 999 | 0 | nonexistent | 1.1 | 93.994 | -36.4 | 4.857 | 5191 | no | 3 |\n| 4 | 25 | services    | single   | high.school | no      | yes | no  | telephone | may | mon | ⋯ | 999 | 0 | nonexistent | 1.1 | 93.994 | -36.4 | 4.857 | 5191 | no | 4 |\n| 5 | 29 | blue-collar | single   | high.school | no      | no  | yes | telephone | may | mon | ⋯ | 999 | 0 | nonexistent | 1.1 | 93.994 | -36.4 | 4.857 | 5191 | no | 5 |\n| 6 | 57 | housemaid   | divorced | basic.4y    | no      | yes | no  | telephone | may | mon | ⋯ | 999 | 0 | nonexistent | 1.1 | 93.994 | -36.4 | 4.857 | 5191 | no | 6 |\n\n",
            "text/latex": "A data.frame: 6 × 22\n\\begin{tabular}{r|lllllllllllllllllllll}\n  & age & job & marital & education & default & housing & loan & contact & month & day\\_of\\_week & ⋯ & days\\_since\\_previous & previous & previous\\_outcome & emp.var.rate & cons.price.idx & cons.conf.idx & euribor3m & nr.employed & response & Index\\\\\n  & <int> & <chr> & <chr> & <chr> & <chr> & <chr> & <chr> & <chr> & <chr> & <chr> & ⋯ & <int> & <int> & <chr> & <dbl> & <dbl> & <dbl> & <dbl> & <int> & <chr> & <int>\\\\\n\\hline\n\t1 & 56 & housemaid   & married  & basic.4y    & no      & no  & no  & telephone & may & mon & ⋯ & 999 & 0 & nonexistent & 1.1 & 93.994 & -36.4 & 4.857 & 5191 & no & 1\\\\\n\t2 & 57 & services    & married  & high.school & unknown & no  & no  & telephone & may & mon & ⋯ & 999 & 0 & nonexistent & 1.1 & 93.994 & -36.4 & 4.857 & 5191 & no & 2\\\\\n\t3 & 41 & blue-collar & married  & unknown     & unknown & no  & no  & telephone & may & mon & ⋯ & 999 & 0 & nonexistent & 1.1 & 93.994 & -36.4 & 4.857 & 5191 & no & 3\\\\\n\t4 & 25 & services    & single   & high.school & no      & yes & no  & telephone & may & mon & ⋯ & 999 & 0 & nonexistent & 1.1 & 93.994 & -36.4 & 4.857 & 5191 & no & 4\\\\\n\t5 & 29 & blue-collar & single   & high.school & no      & no  & yes & telephone & may & mon & ⋯ & 999 & 0 & nonexistent & 1.1 & 93.994 & -36.4 & 4.857 & 5191 & no & 5\\\\\n\t6 & 57 & housemaid   & divorced & basic.4y    & no      & yes & no  & telephone & may & mon & ⋯ & 999 & 0 & nonexistent & 1.1 & 93.994 & -36.4 & 4.857 & 5191 & no & 6\\\\\n\\end{tabular}\n",
            "text/plain": [
              "  age job         marital  education   default housing loan contact   month\n",
              "1 56  housemaid   married  basic.4y    no      no      no   telephone may  \n",
              "2 57  services    married  high.school unknown no      no   telephone may  \n",
              "3 41  blue-collar married  unknown     unknown no      no   telephone may  \n",
              "4 25  services    single   high.school no      yes     no   telephone may  \n",
              "5 29  blue-collar single   high.school no      no      yes  telephone may  \n",
              "6 57  housemaid   divorced basic.4y    no      yes     no   telephone may  \n",
              "  day_of_week ⋯ days_since_previous previous previous_outcome emp.var.rate\n",
              "1 mon         ⋯ 999                 0        nonexistent      1.1         \n",
              "2 mon         ⋯ 999                 0        nonexistent      1.1         \n",
              "3 mon         ⋯ 999                 0        nonexistent      1.1         \n",
              "4 mon         ⋯ 999                 0        nonexistent      1.1         \n",
              "5 mon         ⋯ 999                 0        nonexistent      1.1         \n",
              "6 mon         ⋯ 999                 0        nonexistent      1.1         \n",
              "  cons.price.idx cons.conf.idx euribor3m nr.employed response Index\n",
              "1 93.994         -36.4         4.857     5191        no       1    \n",
              "2 93.994         -36.4         4.857     5191        no       2    \n",
              "3 93.994         -36.4         4.857     5191        no       3    \n",
              "4 93.994         -36.4         4.857     5191        no       4    \n",
              "5 93.994         -36.4         4.857     5191        no       5    \n",
              "6 93.994         -36.4         4.857     5191        no       6    "
            ]
          },
          "metadata": {}
        }
      ]
    },
    {
      "cell_type": "code",
      "source": [
        "bank_train$days_since_previous <- ifelse(test = bank_train$days_since_previous == 999,\n",
        "                                         yes = NA,\n",
        "                                         no = bank_train$days_since_previous)\n",
        "hist(bank_train$days_since_previous, xlab = \"days_since_previous\", main = \"Histogram of days_since_previous - Missing Values replaced by NA\")"
      ],
      "metadata": {
        "colab": {
          "base_uri": "https://localhost:8080/",
          "height": 437
        },
        "id": "_bIJQO8rb6bX",
        "outputId": "adc82469-7ba8-4c9a-e4cf-9f6bd3f1f197"
      },
      "execution_count": 2,
      "outputs": [
        {
          "output_type": "display_data",
          "data": {
            "text/plain": [
              "Plot with title “Histogram of days_since_previous - Missing Values replaced by NA”"
            ],
            "image/png": "[encoded data removed]"
          },
          "metadata": {
            "image/png": {
              "width": 420,
              "height": 420
            }
          }
        }
      ]
    },
    {
      "cell_type": "code",
      "source": [
        "edu.num <- revalue(x = bank_train$education, replace = c(\"illiterate\" = 0, \"basic.4y\" = 4, \"basic.6y\" = 6, \"basic.9y\" = 9,\n",
        "                                                         \"high.school\" = 12, \"professional.course\" = 12,\n",
        "                                                         \"university.degree\" = 16, \"unknown\" = NA))\n",
        "\n",
        "bank_train$education_numeric <- as.numeric(levels(edu.num))[edu.num]\n",
        "bank_train$age_z <- scale(x = bank_train$age)\n",
        "bank_outliers <- bank_train[which(bank_train$age_z < -3 |\n",
        "                                    bank_train$age_z > 3), ]\n",
        "\n",
        "bank_train_sort <- bank_train[order(-bank_train$age_z), ]\n",
        "bank_train_sort[1:10, ]\n",
        "head(bank_train_sort)\n",
        "bank_train_sort[1:10, c(1, 3)]"
      ],
      "metadata": {
        "colab": {
          "base_uri": "https://localhost:8080/",
          "height": 1000
        },
        "id": "zsVimaV2cCnT",
        "outputId": "61fc28e7-f7d2-421f-e575-1decaf73393e"
      },
      "execution_count": 3,
      "outputs": [
        {
          "output_type": "display_data",
          "data": {
            "text/html": [
              "<table class=\"dataframe\">\n",
              "<caption>A data.frame: 10 × 24</caption>\n",
              "<thead>\n",
              "\t<tr><th></th><th scope=col>age</th><th scope=col>job</th><th scope=col>marital</th><th scope=col>education</th><th scope=col>default</th><th scope=col>housing</th><th scope=col>loan</th><th scope=col>contact</th><th scope=col>month</th><th scope=col>day_of_week</th><th scope=col>⋯</th><th scope=col>previous_outcome</th><th scope=col>emp.var.rate</th><th scope=col>cons.price.idx</th><th scope=col>cons.conf.idx</th><th scope=col>euribor3m</th><th scope=col>nr.employed</th><th scope=col>response</th><th scope=col>Index</th><th scope=col>education_numeric</th><th scope=col>age_z</th></tr>\n",
              "\t<tr><th></th><th scope=col>&lt;int&gt;</th><th scope=col>&lt;chr&gt;</th><th scope=col>&lt;chr&gt;</th><th scope=col>&lt;chr&gt;</th><th scope=col>&lt;chr&gt;</th><th scope=col>&lt;chr&gt;</th><th scope=col>&lt;chr&gt;</th><th scope=col>&lt;chr&gt;</th><th scope=col>&lt;chr&gt;</th><th scope=col>&lt;chr&gt;</th><th scope=col>⋯</th><th scope=col>&lt;chr&gt;</th><th scope=col>&lt;dbl&gt;</th><th scope=col>&lt;dbl&gt;</th><th scope=col>&lt;dbl&gt;</th><th scope=col>&lt;dbl&gt;</th><th scope=col>&lt;int&gt;</th><th scope=col>&lt;chr&gt;</th><th scope=col>&lt;int&gt;</th><th scope=col>&lt;dbl&gt;</th><th scope=col>&lt;dbl[,1]&gt;</th></tr>\n",
              "</thead>\n",
              "<tbody>\n",
              "\t<tr><th scope=row>24834</th><td>91</td><td>retired</td><td>married </td><td>university.degree</td><td>no</td><td>yes</td><td>yes</td><td>cellular</td><td>sep</td><td>wed</td><td>⋯</td><td>failure    </td><td>-3.4</td><td>92.379</td><td>-29.8</td><td>0.781</td><td>5017</td><td>no </td><td>24834</td><td>NA</td><td>4.904889</td></tr>\n",
              "\t<tr><th scope=row>24841</th><td>91</td><td>retired</td><td>married </td><td>university.degree</td><td>no</td><td>no </td><td>yes</td><td>cellular</td><td>sep</td><td>wed</td><td>⋯</td><td>nonexistent</td><td>-3.4</td><td>92.379</td><td>-29.8</td><td>0.781</td><td>5017</td><td>no </td><td>24841</td><td>NA</td><td>4.904889</td></tr>\n",
              "\t<tr><th scope=row>26016</th><td>89</td><td>retired</td><td>divorced</td><td>basic.4y         </td><td>no</td><td>no </td><td>no </td><td>cellular</td><td>jun</td><td>mon</td><td>⋯</td><td>nonexistent</td><td>-1.7</td><td>94.055</td><td>-39.8</td><td>0.720</td><td>4991</td><td>yes</td><td>26016</td><td>NA</td><td>4.712586</td></tr>\n",
              "\t<tr><th scope=row>26521</th><td>89</td><td>retired</td><td>divorced</td><td>basic.4y         </td><td>no</td><td>yes</td><td>no </td><td>cellular</td><td>sep</td><td>tue</td><td>⋯</td><td>nonexistent</td><td>-1.1</td><td>94.199</td><td>-37.5</td><td>0.881</td><td>4963</td><td>yes</td><td>26521</td><td>NA</td><td>4.712586</td></tr>\n",
              "\t<tr><th scope=row>18180</th><td>88</td><td>retired</td><td>divorced</td><td>basic.4y         </td><td>no</td><td>yes</td><td>no </td><td>cellular</td><td>mar</td><td>wed</td><td>⋯</td><td>nonexistent</td><td>-1.8</td><td>92.843</td><td>-50.0</td><td>1.663</td><td>5099</td><td>no </td><td>18180</td><td>NA</td><td>4.616435</td></tr>\n",
              "\t<tr><th scope=row>18182</th><td>88</td><td>retired</td><td>divorced</td><td>basic.4y         </td><td>no</td><td>no </td><td>no </td><td>cellular</td><td>mar</td><td>wed</td><td>⋯</td><td>nonexistent</td><td>-1.8</td><td>92.843</td><td>-50.0</td><td>1.663</td><td>5099</td><td>yes</td><td>18182</td><td>NA</td><td>4.616435</td></tr>\n",
              "\t<tr><th scope=row>18184</th><td>88</td><td>retired</td><td>divorced</td><td>basic.4y         </td><td>no</td><td>yes</td><td>yes</td><td>cellular</td><td>mar</td><td>wed</td><td>⋯</td><td>nonexistent</td><td>-1.8</td><td>92.843</td><td>-50.0</td><td>1.663</td><td>5099</td><td>yes</td><td>18184</td><td>NA</td><td>4.616435</td></tr>\n",
              "\t<tr><th scope=row>18187</th><td>88</td><td>retired</td><td>divorced</td><td>basic.4y         </td><td>no</td><td>yes</td><td>no </td><td>cellular</td><td>mar</td><td>wed</td><td>⋯</td><td>nonexistent</td><td>-1.8</td><td>92.843</td><td>-50.0</td><td>1.663</td><td>5099</td><td>yes</td><td>18187</td><td>NA</td><td>4.616435</td></tr>\n",
              "\t<tr><th scope=row>18188</th><td>88</td><td>retired</td><td>divorced</td><td>basic.4y         </td><td>no</td><td>no </td><td>no </td><td>cellular</td><td>mar</td><td>wed</td><td>⋯</td><td>nonexistent</td><td>-1.8</td><td>92.843</td><td>-50.0</td><td>1.663</td><td>5099</td><td>yes</td><td>18188</td><td>NA</td><td>4.616435</td></tr>\n",
              "\t<tr><th scope=row>18189</th><td>88</td><td>retired</td><td>divorced</td><td>basic.4y         </td><td>no</td><td>yes</td><td>no </td><td>cellular</td><td>mar</td><td>wed</td><td>⋯</td><td>nonexistent</td><td>-1.8</td><td>92.843</td><td>-50.0</td><td>1.663</td><td>5099</td><td>yes</td><td>18189</td><td>NA</td><td>4.616435</td></tr>\n",
              "</tbody>\n",
              "</table>\n"
            ],
            "text/markdown": "\nA data.frame: 10 × 24\n\n| <!--/--> | age &lt;int&gt; | job &lt;chr&gt; | marital &lt;chr&gt; | education &lt;chr&gt; | default &lt;chr&gt; | housing &lt;chr&gt; | loan &lt;chr&gt; | contact &lt;chr&gt; | month &lt;chr&gt; | day_of_week &lt;chr&gt; | ⋯ ⋯ | previous_outcome &lt;chr&gt; | emp.var.rate &lt;dbl&gt; | cons.price.idx &lt;dbl&gt; | cons.conf.idx &lt;dbl&gt; | euribor3m &lt;dbl&gt; | nr.employed &lt;int&gt; | response &lt;chr&gt; | Index &lt;int&gt; | education_numeric &lt;dbl&gt; | age_z &lt;dbl[,1]&gt; |\n|---|---|---|---|---|---|---|---|---|---|---|---|---|---|---|---|---|---|---|---|---|---|\n| 24834 | 91 | retired | married  | university.degree | no | yes | yes | cellular | sep | wed | ⋯ | failure     | -3.4 | 92.379 | -29.8 | 0.781 | 5017 | no  | 24834 | NA | 4.904889 |\n| 24841 | 91 | retired | married  | university.degree | no | no  | yes | cellular | sep | wed | ⋯ | nonexistent | -3.4 | 92.379 | -29.8 | 0.781 | 5017 | no  | 24841 | NA | 4.904889 |\n| 26016 | 89 | retired | divorced | basic.4y          | no | no  | no  | cellular | jun | mon | ⋯ | nonexistent | -1.7 | 94.055 | -39.8 | 0.720 | 4991 | yes | 26016 | NA | 4.712586 |\n| 26521 | 89 | retired | divorced | basic.4y          | no | yes | no  | cellular | sep | tue | ⋯ | nonexistent | -1.1 | 94.199 | -37.5 | 0.881 | 4963 | yes | 26521 | NA | 4.712586 |\n| 18180 | 88 | retired | divorced | basic.4y          | no | yes | no  | cellular | mar | wed | ⋯ | nonexistent | -1.8 | 92.843 | -50.0 | 1.663 | 5099 | no  | 18180 | NA | 4.616435 |\n| 18182 | 88 | retired | divorced | basic.4y          | no | no  | no  | cellular | mar | wed | ⋯ | nonexistent | -1.8 | 92.843 | -50.0 | 1.663 | 5099 | yes | 18182 | NA | 4.616435 |\n| 18184 | 88 | retired | divorced | basic.4y          | no | yes | yes | cellular | mar | wed | ⋯ | nonexistent | -1.8 | 92.843 | -50.0 | 1.663 | 5099 | yes | 18184 | NA | 4.616435 |\n| 18187 | 88 | retired | divorced | basic.4y          | no | yes | no  | cellular | mar | wed | ⋯ | nonexistent | -1.8 | 92.843 | -50.0 | 1.663 | 5099 | yes | 18187 | NA | 4.616435 |\n| 18188 | 88 | retired | divorced | basic.4y          | no | no  | no  | cellular | mar | wed | ⋯ | nonexistent | -1.8 | 92.843 | -50.0 | 1.663 | 5099 | yes | 18188 | NA | 4.616435 |\n| 18189 | 88 | retired | divorced | basic.4y          | no | yes | no  | cellular | mar | wed | ⋯ | nonexistent | -1.8 | 92.843 | -50.0 | 1.663 | 5099 | yes | 18189 | NA | 4.616435 |\n\n",
            "text/latex": "A data.frame: 10 × 24\n\\begin{tabular}{r|lllllllllllllllllllll}\n  & age & job & marital & education & default & housing & loan & contact & month & day\\_of\\_week & ⋯ & previous\\_outcome & emp.var.rate & cons.price.idx & cons.conf.idx & euribor3m & nr.employed & response & Index & education\\_numeric & age\\_z\\\\\n  & <int> & <chr> & <chr> & <chr> & <chr> & <chr> & <chr> & <chr> & <chr> & <chr> & ⋯ & <chr> & <dbl> & <dbl> & <dbl> & <dbl> & <int> & <chr> & <int> & <dbl> & <dbl{[},1{]}>\\\\\n\\hline\n\t24834 & 91 & retired & married  & university.degree & no & yes & yes & cellular & sep & wed & ⋯ & failure     & -3.4 & 92.379 & -29.8 & 0.781 & 5017 & no  & 24834 & NA & 4.904889\\\\\n\t24841 & 91 & retired & married  & university.degree & no & no  & yes & cellular & sep & wed & ⋯ & nonexistent & -3.4 & 92.379 & -29.8 & 0.781 & 5017 & no  & 24841 & NA & 4.904889\\\\\n\t26016 & 89 & retired & divorced & basic.4y          & no & no  & no  & cellular & jun & mon & ⋯ & nonexistent & -1.7 & 94.055 & -39.8 & 0.720 & 4991 & yes & 26016 & NA & 4.712586\\\\\n\t26521 & 89 & retired & divorced & basic.4y          & no & yes & no  & cellular & sep & tue & ⋯ & nonexistent & -1.1 & 94.199 & -37.5 & 0.881 & 4963 & yes & 26521 & NA & 4.712586\\\\\n\t18180 & 88 & retired & divorced & basic.4y          & no & yes & no  & cellular & mar & wed & ⋯ & nonexistent & -1.8 & 92.843 & -50.0 & 1.663 & 5099 & no  & 18180 & NA & 4.616435\\\\\n\t18182 & 88 & retired & divorced & basic.4y          & no & no  & no  & cellular & mar & wed & ⋯ & nonexistent & -1.8 & 92.843 & -50.0 & 1.663 & 5099 & yes & 18182 & NA & 4.616435\\\\\n\t18184 & 88 & retired & divorced & basic.4y          & no & yes & yes & cellular & mar & wed & ⋯ & nonexistent & -1.8 & 92.843 & -50.0 & 1.663 & 5099 & yes & 18184 & NA & 4.616435\\\\\n\t18187 & 88 & retired & divorced & basic.4y          & no & yes & no  & cellular & mar & wed & ⋯ & nonexistent & -1.8 & 92.843 & -50.0 & 1.663 & 5099 & yes & 18187 & NA & 4.616435\\\\\n\t18188 & 88 & retired & divorced & basic.4y          & no & no  & no  & cellular & mar & wed & ⋯ & nonexistent & -1.8 & 92.843 & -50.0 & 1.663 & 5099 & yes & 18188 & NA & 4.616435\\\\\n\t18189 & 88 & retired & divorced & basic.4y          & no & yes & no  & cellular & mar & wed & ⋯ & nonexistent & -1.8 & 92.843 & -50.0 & 1.663 & 5099 & yes & 18189 & NA & 4.616435\\\\\n\\end{tabular}\n",
            "text/plain": [
              "      age job     marital  education         default housing loan contact \n",
              "24834 91  retired married  university.degree no      yes     yes  cellular\n",
              "24841 91  retired married  university.degree no      no      yes  cellular\n",
              "26016 89  retired divorced basic.4y          no      no      no   cellular\n",
              "26521 89  retired divorced basic.4y          no      yes     no   cellular\n",
              "18180 88  retired divorced basic.4y          no      yes     no   cellular\n",
              "18182 88  retired divorced basic.4y          no      no      no   cellular\n",
              "18184 88  retired divorced basic.4y          no      yes     yes  cellular\n",
              "18187 88  retired divorced basic.4y          no      yes     no   cellular\n",
              "18188 88  retired divorced basic.4y          no      no      no   cellular\n",
              "18189 88  retired divorced basic.4y          no      yes     no   cellular\n",
              "      month day_of_week ⋯ previous_outcome emp.var.rate cons.price.idx\n",
              "24834 sep   wed         ⋯ failure          -3.4         92.379        \n",
              "24841 sep   wed         ⋯ nonexistent      -3.4         92.379        \n",
              "26016 jun   mon         ⋯ nonexistent      -1.7         94.055        \n",
              "26521 sep   tue         ⋯ nonexistent      -1.1         94.199        \n",
              "18180 mar   wed         ⋯ nonexistent      -1.8         92.843        \n",
              "18182 mar   wed         ⋯ nonexistent      -1.8         92.843        \n",
              "18184 mar   wed         ⋯ nonexistent      -1.8         92.843        \n",
              "18187 mar   wed         ⋯ nonexistent      -1.8         92.843        \n",
              "18188 mar   wed         ⋯ nonexistent      -1.8         92.843        \n",
              "18189 mar   wed         ⋯ nonexistent      -1.8         92.843        \n",
              "      cons.conf.idx euribor3m nr.employed response Index education_numeric\n",
              "24834 -29.8         0.781     5017        no       24834 NA               \n",
              "24841 -29.8         0.781     5017        no       24841 NA               \n",
              "26016 -39.8         0.720     4991        yes      26016 NA               \n",
              "26521 -37.5         0.881     4963        yes      26521 NA               \n",
              "18180 -50.0         1.663     5099        no       18180 NA               \n",
              "18182 -50.0         1.663     5099        yes      18182 NA               \n",
              "18184 -50.0         1.663     5099        yes      18184 NA               \n",
              "18187 -50.0         1.663     5099        yes      18187 NA               \n",
              "18188 -50.0         1.663     5099        yes      18188 NA               \n",
              "18189 -50.0         1.663     5099        yes      18189 NA               \n",
              "      age_z   \n",
              "24834 4.904889\n",
              "24841 4.904889\n",
              "26016 4.712586\n",
              "26521 4.712586\n",
              "18180 4.616435\n",
              "18182 4.616435\n",
              "18184 4.616435\n",
              "18187 4.616435\n",
              "18188 4.616435\n",
              "18189 4.616435"
            ]
          },
          "metadata": {}
        },
        {
          "output_type": "display_data",
          "data": {
            "text/html": [
              "<table class=\"dataframe\">\n",
              "<caption>A data.frame: 6 × 24</caption>\n",
              "<thead>\n",
              "\t<tr><th></th><th scope=col>age</th><th scope=col>job</th><th scope=col>marital</th><th scope=col>education</th><th scope=col>default</th><th scope=col>housing</th><th scope=col>loan</th><th scope=col>contact</th><th scope=col>month</th><th scope=col>day_of_week</th><th scope=col>⋯</th><th scope=col>previous_outcome</th><th scope=col>emp.var.rate</th><th scope=col>cons.price.idx</th><th scope=col>cons.conf.idx</th><th scope=col>euribor3m</th><th scope=col>nr.employed</th><th scope=col>response</th><th scope=col>Index</th><th scope=col>education_numeric</th><th scope=col>age_z</th></tr>\n",
              "\t<tr><th></th><th scope=col>&lt;int&gt;</th><th scope=col>&lt;chr&gt;</th><th scope=col>&lt;chr&gt;</th><th scope=col>&lt;chr&gt;</th><th scope=col>&lt;chr&gt;</th><th scope=col>&lt;chr&gt;</th><th scope=col>&lt;chr&gt;</th><th scope=col>&lt;chr&gt;</th><th scope=col>&lt;chr&gt;</th><th scope=col>&lt;chr&gt;</th><th scope=col>⋯</th><th scope=col>&lt;chr&gt;</th><th scope=col>&lt;dbl&gt;</th><th scope=col>&lt;dbl&gt;</th><th scope=col>&lt;dbl&gt;</th><th scope=col>&lt;dbl&gt;</th><th scope=col>&lt;int&gt;</th><th scope=col>&lt;chr&gt;</th><th scope=col>&lt;int&gt;</th><th scope=col>&lt;dbl&gt;</th><th scope=col>&lt;dbl[,1]&gt;</th></tr>\n",
              "</thead>\n",
              "<tbody>\n",
              "\t<tr><th scope=row>24834</th><td>91</td><td>retired</td><td>married </td><td>university.degree</td><td>no</td><td>yes</td><td>yes</td><td>cellular</td><td>sep</td><td>wed</td><td>⋯</td><td>failure    </td><td>-3.4</td><td>92.379</td><td>-29.8</td><td>0.781</td><td>5017</td><td>no </td><td>24834</td><td>NA</td><td>4.904889</td></tr>\n",
              "\t<tr><th scope=row>24841</th><td>91</td><td>retired</td><td>married </td><td>university.degree</td><td>no</td><td>no </td><td>yes</td><td>cellular</td><td>sep</td><td>wed</td><td>⋯</td><td>nonexistent</td><td>-3.4</td><td>92.379</td><td>-29.8</td><td>0.781</td><td>5017</td><td>no </td><td>24841</td><td>NA</td><td>4.904889</td></tr>\n",
              "\t<tr><th scope=row>26016</th><td>89</td><td>retired</td><td>divorced</td><td>basic.4y         </td><td>no</td><td>no </td><td>no </td><td>cellular</td><td>jun</td><td>mon</td><td>⋯</td><td>nonexistent</td><td>-1.7</td><td>94.055</td><td>-39.8</td><td>0.720</td><td>4991</td><td>yes</td><td>26016</td><td>NA</td><td>4.712586</td></tr>\n",
              "\t<tr><th scope=row>26521</th><td>89</td><td>retired</td><td>divorced</td><td>basic.4y         </td><td>no</td><td>yes</td><td>no </td><td>cellular</td><td>sep</td><td>tue</td><td>⋯</td><td>nonexistent</td><td>-1.1</td><td>94.199</td><td>-37.5</td><td>0.881</td><td>4963</td><td>yes</td><td>26521</td><td>NA</td><td>4.712586</td></tr>\n",
              "\t<tr><th scope=row>18180</th><td>88</td><td>retired</td><td>divorced</td><td>basic.4y         </td><td>no</td><td>yes</td><td>no </td><td>cellular</td><td>mar</td><td>wed</td><td>⋯</td><td>nonexistent</td><td>-1.8</td><td>92.843</td><td>-50.0</td><td>1.663</td><td>5099</td><td>no </td><td>18180</td><td>NA</td><td>4.616435</td></tr>\n",
              "\t<tr><th scope=row>18182</th><td>88</td><td>retired</td><td>divorced</td><td>basic.4y         </td><td>no</td><td>no </td><td>no </td><td>cellular</td><td>mar</td><td>wed</td><td>⋯</td><td>nonexistent</td><td>-1.8</td><td>92.843</td><td>-50.0</td><td>1.663</td><td>5099</td><td>yes</td><td>18182</td><td>NA</td><td>4.616435</td></tr>\n",
              "</tbody>\n",
              "</table>\n"
            ],
            "text/markdown": "\nA data.frame: 6 × 24\n\n| <!--/--> | age &lt;int&gt; | job &lt;chr&gt; | marital &lt;chr&gt; | education &lt;chr&gt; | default &lt;chr&gt; | housing &lt;chr&gt; | loan &lt;chr&gt; | contact &lt;chr&gt; | month &lt;chr&gt; | day_of_week &lt;chr&gt; | ⋯ ⋯ | previous_outcome &lt;chr&gt; | emp.var.rate &lt;dbl&gt; | cons.price.idx &lt;dbl&gt; | cons.conf.idx &lt;dbl&gt; | euribor3m &lt;dbl&gt; | nr.employed &lt;int&gt; | response &lt;chr&gt; | Index &lt;int&gt; | education_numeric &lt;dbl&gt; | age_z &lt;dbl[,1]&gt; |\n|---|---|---|---|---|---|---|---|---|---|---|---|---|---|---|---|---|---|---|---|---|---|\n| 24834 | 91 | retired | married  | university.degree | no | yes | yes | cellular | sep | wed | ⋯ | failure     | -3.4 | 92.379 | -29.8 | 0.781 | 5017 | no  | 24834 | NA | 4.904889 |\n| 24841 | 91 | retired | married  | university.degree | no | no  | yes | cellular | sep | wed | ⋯ | nonexistent | -3.4 | 92.379 | -29.8 | 0.781 | 5017 | no  | 24841 | NA | 4.904889 |\n| 26016 | 89 | retired | divorced | basic.4y          | no | no  | no  | cellular | jun | mon | ⋯ | nonexistent | -1.7 | 94.055 | -39.8 | 0.720 | 4991 | yes | 26016 | NA | 4.712586 |\n| 26521 | 89 | retired | divorced | basic.4y          | no | yes | no  | cellular | sep | tue | ⋯ | nonexistent | -1.1 | 94.199 | -37.5 | 0.881 | 4963 | yes | 26521 | NA | 4.712586 |\n| 18180 | 88 | retired | divorced | basic.4y          | no | yes | no  | cellular | mar | wed | ⋯ | nonexistent | -1.8 | 92.843 | -50.0 | 1.663 | 5099 | no  | 18180 | NA | 4.616435 |\n| 18182 | 88 | retired | divorced | basic.4y          | no | no  | no  | cellular | mar | wed | ⋯ | nonexistent | -1.8 | 92.843 | -50.0 | 1.663 | 5099 | yes | 18182 | NA | 4.616435 |\n\n",
            "text/latex": "A data.frame: 6 × 24\n\\begin{tabular}{r|lllllllllllllllllllll}\n  & age & job & marital & education & default & housing & loan & contact & month & day\\_of\\_week & ⋯ & previous\\_outcome & emp.var.rate & cons.price.idx & cons.conf.idx & euribor3m & nr.employed & response & Index & education\\_numeric & age\\_z\\\\\n  & <int> & <chr> & <chr> & <chr> & <chr> & <chr> & <chr> & <chr> & <chr> & <chr> & ⋯ & <chr> & <dbl> & <dbl> & <dbl> & <dbl> & <int> & <chr> & <int> & <dbl> & <dbl{[},1{]}>\\\\\n\\hline\n\t24834 & 91 & retired & married  & university.degree & no & yes & yes & cellular & sep & wed & ⋯ & failure     & -3.4 & 92.379 & -29.8 & 0.781 & 5017 & no  & 24834 & NA & 4.904889\\\\\n\t24841 & 91 & retired & married  & university.degree & no & no  & yes & cellular & sep & wed & ⋯ & nonexistent & -3.4 & 92.379 & -29.8 & 0.781 & 5017 & no  & 24841 & NA & 4.904889\\\\\n\t26016 & 89 & retired & divorced & basic.4y          & no & no  & no  & cellular & jun & mon & ⋯ & nonexistent & -1.7 & 94.055 & -39.8 & 0.720 & 4991 & yes & 26016 & NA & 4.712586\\\\\n\t26521 & 89 & retired & divorced & basic.4y          & no & yes & no  & cellular & sep & tue & ⋯ & nonexistent & -1.1 & 94.199 & -37.5 & 0.881 & 4963 & yes & 26521 & NA & 4.712586\\\\\n\t18180 & 88 & retired & divorced & basic.4y          & no & yes & no  & cellular & mar & wed & ⋯ & nonexistent & -1.8 & 92.843 & -50.0 & 1.663 & 5099 & no  & 18180 & NA & 4.616435\\\\\n\t18182 & 88 & retired & divorced & basic.4y          & no & no  & no  & cellular & mar & wed & ⋯ & nonexistent & -1.8 & 92.843 & -50.0 & 1.663 & 5099 & yes & 18182 & NA & 4.616435\\\\\n\\end{tabular}\n",
            "text/plain": [
              "      age job     marital  education         default housing loan contact \n",
              "24834 91  retired married  university.degree no      yes     yes  cellular\n",
              "24841 91  retired married  university.degree no      no      yes  cellular\n",
              "26016 89  retired divorced basic.4y          no      no      no   cellular\n",
              "26521 89  retired divorced basic.4y          no      yes     no   cellular\n",
              "18180 88  retired divorced basic.4y          no      yes     no   cellular\n",
              "18182 88  retired divorced basic.4y          no      no      no   cellular\n",
              "      month day_of_week ⋯ previous_outcome emp.var.rate cons.price.idx\n",
              "24834 sep   wed         ⋯ failure          -3.4         92.379        \n",
              "24841 sep   wed         ⋯ nonexistent      -3.4         92.379        \n",
              "26016 jun   mon         ⋯ nonexistent      -1.7         94.055        \n",
              "26521 sep   tue         ⋯ nonexistent      -1.1         94.199        \n",
              "18180 mar   wed         ⋯ nonexistent      -1.8         92.843        \n",
              "18182 mar   wed         ⋯ nonexistent      -1.8         92.843        \n",
              "      cons.conf.idx euribor3m nr.employed response Index education_numeric\n",
              "24834 -29.8         0.781     5017        no       24834 NA               \n",
              "24841 -29.8         0.781     5017        no       24841 NA               \n",
              "26016 -39.8         0.720     4991        yes      26016 NA               \n",
              "26521 -37.5         0.881     4963        yes      26521 NA               \n",
              "18180 -50.0         1.663     5099        no       18180 NA               \n",
              "18182 -50.0         1.663     5099        yes      18182 NA               \n",
              "      age_z   \n",
              "24834 4.904889\n",
              "24841 4.904889\n",
              "26016 4.712586\n",
              "26521 4.712586\n",
              "18180 4.616435\n",
              "18182 4.616435"
            ]
          },
          "metadata": {}
        },
        {
          "output_type": "display_data",
          "data": {
            "text/html": [
              "<table class=\"dataframe\">\n",
              "<caption>A data.frame: 10 × 2</caption>\n",
              "<thead>\n",
              "\t<tr><th></th><th scope=col>age</th><th scope=col>marital</th></tr>\n",
              "\t<tr><th></th><th scope=col>&lt;int&gt;</th><th scope=col>&lt;chr&gt;</th></tr>\n",
              "</thead>\n",
              "<tbody>\n",
              "\t<tr><th scope=row>24834</th><td>91</td><td>married </td></tr>\n",
              "\t<tr><th scope=row>24841</th><td>91</td><td>married </td></tr>\n",
              "\t<tr><th scope=row>26016</th><td>89</td><td>divorced</td></tr>\n",
              "\t<tr><th scope=row>26521</th><td>89</td><td>divorced</td></tr>\n",
              "\t<tr><th scope=row>18180</th><td>88</td><td>divorced</td></tr>\n",
              "\t<tr><th scope=row>18182</th><td>88</td><td>divorced</td></tr>\n",
              "\t<tr><th scope=row>18184</th><td>88</td><td>divorced</td></tr>\n",
              "\t<tr><th scope=row>18187</th><td>88</td><td>divorced</td></tr>\n",
              "\t<tr><th scope=row>18188</th><td>88</td><td>divorced</td></tr>\n",
              "\t<tr><th scope=row>18189</th><td>88</td><td>divorced</td></tr>\n",
              "</tbody>\n",
              "</table>\n"
            ],
            "text/markdown": "\nA data.frame: 10 × 2\n\n| <!--/--> | age &lt;int&gt; | marital &lt;chr&gt; |\n|---|---|---|\n| 24834 | 91 | married  |\n| 24841 | 91 | married  |\n| 26016 | 89 | divorced |\n| 26521 | 89 | divorced |\n| 18180 | 88 | divorced |\n| 18182 | 88 | divorced |\n| 18184 | 88 | divorced |\n| 18187 | 88 | divorced |\n| 18188 | 88 | divorced |\n| 18189 | 88 | divorced |\n\n",
            "text/latex": "A data.frame: 10 × 2\n\\begin{tabular}{r|ll}\n  & age & marital\\\\\n  & <int> & <chr>\\\\\n\\hline\n\t24834 & 91 & married \\\\\n\t24841 & 91 & married \\\\\n\t26016 & 89 & divorced\\\\\n\t26521 & 89 & divorced\\\\\n\t18180 & 88 & divorced\\\\\n\t18182 & 88 & divorced\\\\\n\t18184 & 88 & divorced\\\\\n\t18187 & 88 & divorced\\\\\n\t18188 & 88 & divorced\\\\\n\t18189 & 88 & divorced\\\\\n\\end{tabular}\n",
            "text/plain": [
              "      age marital \n",
              "24834 91  married \n",
              "24841 91  married \n",
              "26016 89  divorced\n",
              "26521 89  divorced\n",
              "18180 88  divorced\n",
              "18182 88  divorced\n",
              "18184 88  divorced\n",
              "18187 88  divorced\n",
              "18188 88  divorced\n",
              "18189 88  divorced"
            ]
          },
          "metadata": {}
        }
      ]
    }
  ]
}