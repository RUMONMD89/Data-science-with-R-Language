{
  "nbformat": 4,
  "nbformat_minor": 0,
  "metadata": {
    "colab": {
      "provenance": [],
      "include_colab_link": true
    },
    "kernelspec": {
      "name": "python3",
      "display_name": "Python 3"
    },
    "language_info": {
      "name": "python"
    }
  },
  "cells": [
    {
      "cell_type": "markdown",
      "metadata": {
        "id": "view-in-github",
        "colab_type": "text"
      },
      "source": [
        "<a href=\"https://colab.research.google.com/github/RUMONMD89/Data-science-with-R-Language/blob/main/ADS5_Py.ipynb\" target=\"_parent\"><img src=\"https://colab.research.google.com/assets/colab-badge.svg\" alt=\"Open In Colab\"/></a>"
      ]
    },
    {
      "cell_type": "code",
      "source": [
        "# 5. モデル構築下準備\n",
        "# 5･2･1 データ分割（Python）\n",
        "import pandas as pd\n",
        "from sklearn.model_selection import train_test_split\n",
        "import random\n",
        "bank = pd.read_csv(\"bank-additional.csv\")\n",
        "bank_train, bank_test = train_test_split(bank, test_size=0.25, random_state=7)\n",
        "bank_train.columns\n",
        "bank.shape\n",
        "bank_train.shape\n",
        "bank_test.shape"
      ],
      "metadata": {
        "id": "SK6BcevS6GbY",
        "outputId": "950c2a3a-b3b0-4ad7-80b7-d5ff0276b423",
        "colab": {
          "base_uri": "https://localhost:8080/"
        }
      },
      "execution_count": null,
      "outputs": [
        {
          "output_type": "execute_result",
          "data": {
            "text/plain": [
              "(1030, 21)"
            ]
          },
          "metadata": {},
          "execution_count": 1
        }
      ]
    },
    {
      "cell_type": "code",
      "source": [
        "# 5･4･1 学習用データセットの均衡化（Python）\n",
        "bank_train['response'].value_counts()\n",
        "to_resample = bank_train.loc[bank_train['response'] == \"yes\"]\n",
        "our_resample = to_resample.sample(n=841, replace=True)\n",
        "bank_train_rebal = pd.concat([bank_train, our_resample])\n",
        "bank_train_rebal['response'].value_counts()"
      ],
      "metadata": {
        "id": "-ilgUSXc6M8b",
        "outputId": "67fbad0a-7f70-4242-c25e-b5cf9c0f868f",
        "colab": {
          "base_uri": "https://localhost:8080/"
        }
      },
      "execution_count": null,
      "outputs": [
        {
          "output_type": "execute_result",
          "data": {
            "text/plain": [
              "response\n",
              "no     2751\n",
              "yes    1179\n",
              "Name: count, dtype: int64"
            ]
          },
          "metadata": {},
          "execution_count": 2
        }
      ]
    }
  ]
}