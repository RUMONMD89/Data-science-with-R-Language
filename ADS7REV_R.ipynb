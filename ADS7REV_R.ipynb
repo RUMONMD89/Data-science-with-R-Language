{
  "nbformat": 4,
  "nbformat_minor": 0,
  "metadata": {
    "colab": {
      "provenance": [],
      "include_colab_link": true
    },
    "kernelspec": {
      "name": "ir",
      "display_name": "R"
    },
    "language_info": {
      "name": "R"
    }
  },
  "cells": [
    {
      "cell_type": "markdown",
      "metadata": {
        "id": "view-in-github",
        "colab_type": "text"
      },
      "source": [
        "<a href=\"https://colab.research.google.com/github/RUMONMD89/Data-science-with-R-Language/blob/main/ADS7REV_R.ipynb\" target=\"_parent\"><img src=\"https://colab.research.google.com/assets/colab-badge.svg\" alt=\"Open In Colab\"/></a>"
      ]
    },
    {
      "cell_type": "code",
      "source": [
        "##Chapter 7\n",
        "install.packages(\"C50\")\n",
        "\n",
        "clothing_train <- read.csv(\"clothing_data_driven_training.csv\")\n",
        "clothing_test  <- read.csv(\"clothing_data_driven_test.csv\")\n",
        "\n",
        "library(C50)\n",
        "\n",
        "clothing_train$Response <- factor(clothing_train$Response)\n",
        "C5 <- C5.0(Response ~ Days.since.Purchase + Number.of.Purchase.Visits + Sales.per.Visit, data = clothing_train)\n",
        "\n",
        "test.X <- subset(x = clothing_test, select = c(\"Days.since.Purchase\", \"Number.of.Purchase.Visits\", \"Sales.per.Visit\"))\n",
        "\n",
        "ypred <- predict(object = C5, newdata = test.X)\n",
        "\n",
        "t1 <- table(clothing_test$Response, ypred)\n",
        "row.names(t1) <- c(\"Actual: 0\", \"Actual: 1\")\n",
        "colnames(t1) <- c(\"Predicted: 0\", \"Predicted: 1\")\n",
        "t1 <- addmargins(A = t1, FUN = list(Total = sum), quiet = TRUE)\n",
        "t1"
      ],
      "metadata": {
        "id": "H-uCp2ZHjPMK",
        "colab": {
          "base_uri": "https://localhost:8080/",
          "height": 270
        },
        "outputId": "2371698a-1bc0-4788-bffc-1930f6b41a06"
      },
      "execution_count": 1,
      "outputs": [
        {
          "output_type": "stream",
          "name": "stderr",
          "text": [
            "Installing package into ‘/usr/local/lib/R/site-library’\n",
            "(as ‘lib’ is unspecified)\n",
            "\n",
            "also installing the dependencies ‘plyr’, ‘Rcpp’, ‘reshape2’, ‘libcoin’, ‘mvtnorm’, ‘Formula’, ‘inum’, ‘Cubist’, ‘partykit’\n",
            "\n",
            "\n"
          ]
        },
        {
          "output_type": "display_data",
          "data": {
            "text/html": [
              "<table class=\"dataframe\">\n",
              "<caption>A table: 3 × 3 of type dbl</caption>\n",
              "<thead>\n",
              "\t<tr><th></th><th scope=col>Predicted: 0</th><th scope=col>Predicted: 1</th><th scope=col>Total</th></tr>\n",
              "</thead>\n",
              "<tbody>\n",
              "\t<tr><th scope=row>Actual: 0</th><td> 9173</td><td>441</td><td> 9614</td></tr>\n",
              "\t<tr><th scope=row>Actual: 1</th><td> 1396</td><td>544</td><td> 1940</td></tr>\n",
              "\t<tr><th scope=row>Total</th><td>10569</td><td>985</td><td>11554</td></tr>\n",
              "</tbody>\n",
              "</table>\n"
            ],
            "text/markdown": "\nA table: 3 × 3 of type dbl\n\n| <!--/--> | Predicted: 0 | Predicted: 1 | Total |\n|---|---|---|---|\n| Actual: 0 |  9173 | 441 |  9614 |\n| Actual: 1 |  1396 | 544 |  1940 |\n| Total | 10569 | 985 | 11554 |\n\n",
            "text/latex": "A table: 3 × 3 of type dbl\n\\begin{tabular}{r|lll}\n  & Predicted: 0 & Predicted: 1 & Total\\\\\n\\hline\n\tActual: 0 &  9173 & 441 &  9614\\\\\n\tActual: 1 &  1396 & 544 &  1940\\\\\n\tTotal & 10569 & 985 & 11554\\\\\n\\end{tabular}\n",
            "text/plain": [
              "           ypred\n",
              "            Predicted: 0 Predicted: 1 Total\n",
              "  Actual: 0  9173        441           9614\n",
              "  Actual: 1  1396        544           1940\n",
              "  Total     10569        985          11554"
            ]
          },
          "metadata": {}
        }
      ]
    },
    {
      "cell_type": "code",
      "source": [
        "cost.C5 <- matrix(c(0, 4, 1, 0), byrow = TRUE, ncol = 2)\n",
        "dimnames(cost.C5) <- list(c(\"0\", \"1\"), c(\"0\", \"1\"))\n",
        "\n",
        "C5.costs <- C5.0(Response ~ Days.since.Purchase + Number.of.Purchase.Visits + Sales.per.Visit, data = clothing_train, costs = cost.C5)\n",
        "\n",
        "ypred <- predict(object = C5.costs, newdata = test.X)\n",
        "\n",
        "t1 <- table(clothing_test$Response, ypred)\n",
        "row.names(t1) <- c(\"Actual: 0\", \"Actual: 1\")\n",
        "colnames(t1) <- c(\"Predicted: 0\", \"Predicted: 1\")\n",
        "t1 <- addmargins(A = t1, FUN = list(Total = sum), quiet = TRUE)\n",
        "t1\n"
      ],
      "metadata": {
        "id": "uqcV2Uo6zMHX",
        "colab": {
          "base_uri": "https://localhost:8080/",
          "height": 161
        },
        "outputId": "1df4ee93-b8f0-4117-9c3c-042b147f10e4"
      },
      "execution_count": 2,
      "outputs": [
        {
          "output_type": "display_data",
          "data": {
            "text/html": [
              "<table class=\"dataframe\">\n",
              "<caption>A table: 3 × 3 of type dbl</caption>\n",
              "<thead>\n",
              "\t<tr><th></th><th scope=col>Predicted: 0</th><th scope=col>Predicted: 1</th><th scope=col>Total</th></tr>\n",
              "</thead>\n",
              "<tbody>\n",
              "\t<tr><th scope=row>Actual: 0</th><td>7163</td><td>2451</td><td> 9614</td></tr>\n",
              "\t<tr><th scope=row>Actual: 1</th><td> 618</td><td>1322</td><td> 1940</td></tr>\n",
              "\t<tr><th scope=row>Total</th><td>7781</td><td>3773</td><td>11554</td></tr>\n",
              "</tbody>\n",
              "</table>\n"
            ],
            "text/markdown": "\nA table: 3 × 3 of type dbl\n\n| <!--/--> | Predicted: 0 | Predicted: 1 | Total |\n|---|---|---|---|\n| Actual: 0 | 7163 | 2451 |  9614 |\n| Actual: 1 |  618 | 1322 |  1940 |\n| Total | 7781 | 3773 | 11554 |\n\n",
            "text/latex": "A table: 3 × 3 of type dbl\n\\begin{tabular}{r|lll}\n  & Predicted: 0 & Predicted: 1 & Total\\\\\n\\hline\n\tActual: 0 & 7163 & 2451 &  9614\\\\\n\tActual: 1 &  618 & 1322 &  1940\\\\\n\tTotal & 7781 & 3773 & 11554\\\\\n\\end{tabular}\n",
            "text/plain": [
              "           ypred\n",
              "            Predicted: 0 Predicted: 1 Total\n",
              "  Actual: 0 7163         2451          9614\n",
              "  Actual: 1  618         1322          1940\n",
              "  Total     7781         3773         11554"
            ]
          },
          "metadata": {}
        }
      ]
    },
    {
      "cell_type": "code",
      "source": [
        "cost.C5 <- matrix(c(0, 11.358, 1, 0), byrow = TRUE, ncol = 2)\n",
        "dimnames(cost.C5) <- list(c(\"0\", \"1\"), c(\"0\", \"1\"))\n",
        "\n",
        "C5.costs <- C5.0(Response ~ Days.since.Purchase + Number.of.Purchase.Visits + Sales.per.Visit, data = clothing_train, costs = cost.C5)\n",
        "\n",
        "ypred <- predict(object = C5.costs, newdata = test.X)\n",
        "\n",
        "t1 <- table(clothing_test$Response, ypred)\n",
        "row.names(t1) <- c(\"Actual: 0\", \"Actual: 1\")\n",
        "colnames(t1) <- c(\"Predicted: 0\", \"Predicted: 1\")\n",
        "t1 <- addmargins(A = t1, FUN = list(Total = sum), quiet = TRUE)\n",
        "t1"
      ],
      "metadata": {
        "id": "HH3pTwL5emkg",
        "colab": {
          "base_uri": "https://localhost:8080/",
          "height": 161
        },
        "outputId": "dba19bb9-5ed9-471d-c591-51e954094a1d"
      },
      "execution_count": 3,
      "outputs": [
        {
          "output_type": "display_data",
          "data": {
            "text/html": [
              "<table class=\"dataframe\">\n",
              "<caption>A table: 3 × 3 of type dbl</caption>\n",
              "<thead>\n",
              "\t<tr><th></th><th scope=col>Predicted: 0</th><th scope=col>Predicted: 1</th><th scope=col>Total</th></tr>\n",
              "</thead>\n",
              "<tbody>\n",
              "\t<tr><th scope=row>Actual: 0</th><td>4237</td><td>5377</td><td> 9614</td></tr>\n",
              "\t<tr><th scope=row>Actual: 1</th><td> 201</td><td>1739</td><td> 1940</td></tr>\n",
              "\t<tr><th scope=row>Total</th><td>4438</td><td>7116</td><td>11554</td></tr>\n",
              "</tbody>\n",
              "</table>\n"
            ],
            "text/markdown": "\nA table: 3 × 3 of type dbl\n\n| <!--/--> | Predicted: 0 | Predicted: 1 | Total |\n|---|---|---|---|\n| Actual: 0 | 4237 | 5377 |  9614 |\n| Actual: 1 |  201 | 1739 |  1940 |\n| Total | 4438 | 7116 | 11554 |\n\n",
            "text/latex": "A table: 3 × 3 of type dbl\n\\begin{tabular}{r|lll}\n  & Predicted: 0 & Predicted: 1 & Total\\\\\n\\hline\n\tActual: 0 & 4237 & 5377 &  9614\\\\\n\tActual: 1 &  201 & 1739 &  1940\\\\\n\tTotal & 4438 & 7116 & 11554\\\\\n\\end{tabular}\n",
            "text/plain": [
              "           ypred\n",
              "            Predicted: 0 Predicted: 1 Total\n",
              "  Actual: 0 4237         5377          9614\n",
              "  Actual: 1  201         1739          1940\n",
              "  Total     4438         7116         11554"
            ]
          },
          "metadata": {}
        }
      ]
    }
  ]
}